{
 "cells": [
  {
   "cell_type": "code",
   "execution_count": 1,
   "id": "c728d5d0-6692-4728-9cb0-0ebe6ffe5d95",
   "metadata": {},
   "outputs": [],
   "source": [
    "import pandas as pd"
   ]
  },
  {
   "cell_type": "code",
   "execution_count": 2,
   "id": "bd8991b4-2875-4444-bce9-152f0c62b7da",
   "metadata": {},
   "outputs": [],
   "source": [
    "import numpy as np\n",
    "import matplotlib.pyplot as plt\n",
    "import plotly.express as px"
   ]
  },
  {
   "cell_type": "code",
   "execution_count": 3,
   "id": "0b5b09ee-0007-42db-bcc0-5f962ff6d075",
   "metadata": {},
   "outputs": [],
   "source": [
    "X_train=pd.read_csv('X_train',index_col=0)\n",
    "y_train=pd.read_csv('y_train',index_col=0)\n",
    "X_test=pd.read_csv('X_test',index_col=0)\n",
    "y_test=pd.read_csv('y_test',index_col=0)"
   ]
  },
  {
   "cell_type": "code",
   "execution_count": 16,
   "id": "76338293-baef-4b51-a5fb-d1a0a38b3a34",
   "metadata": {},
   "outputs": [],
   "source": [
    "def select_column(data):\n",
    "    return data[['Distance_km', 'Weather', 'Traffic_Level', 'Time_of_Day','Vehicle_Type', 'Preparation_Time_min']]"
   ]
  },
  {
   "cell_type": "code",
   "execution_count": null,
   "id": "545882d0-6fc4-46a4-a70f-c165f529341b",
   "metadata": {},
   "outputs": [],
   "source": []
  },
  {
   "cell_type": "code",
   "execution_count": 5,
   "id": "1042da1c-66a8-4ac8-8c89-088f3df04a18",
   "metadata": {},
   "outputs": [
    {
     "data": {
      "text/plain": [
       "Index(['Order_ID', 'Distance_km', 'Weather', 'Traffic_Level', 'Time_of_Day',\n",
       "       'Vehicle_Type', 'Preparation_Time_min', 'Courier_Experience_yrs'],\n",
       "      dtype='object')"
      ]
     },
     "execution_count": 5,
     "metadata": {},
     "output_type": "execute_result"
    }
   ],
   "source": [
    "X_test.columns"
   ]
  },
  {
   "cell_type": "code",
   "execution_count": 6,
   "id": "9d10aedd-ca9e-48c4-97f8-1ea3b6febb4b",
   "metadata": {},
   "outputs": [],
   "source": [
    "sample = X_test.head(1)[['Distance_km', 'Weather', 'Traffic_Level', 'Time_of_Day',\n",
    "       'Vehicle_Type', 'Preparation_Time_min']]"
   ]
  },
  {
   "cell_type": "code",
   "execution_count": 7,
   "id": "6284fbdf-a086-4f4e-8912-da28ea9e63f7",
   "metadata": {},
   "outputs": [
    {
     "data": {
      "text/html": [
       "<div>\n",
       "<style scoped>\n",
       "    .dataframe tbody tr th:only-of-type {\n",
       "        vertical-align: middle;\n",
       "    }\n",
       "\n",
       "    .dataframe tbody tr th {\n",
       "        vertical-align: top;\n",
       "    }\n",
       "\n",
       "    .dataframe thead th {\n",
       "        text-align: right;\n",
       "    }\n",
       "</style>\n",
       "<table border=\"1\" class=\"dataframe\">\n",
       "  <thead>\n",
       "    <tr style=\"text-align: right;\">\n",
       "      <th></th>\n",
       "      <th>Distance_km</th>\n",
       "      <th>Weather</th>\n",
       "      <th>Traffic_Level</th>\n",
       "      <th>Time_of_Day</th>\n",
       "      <th>Vehicle_Type</th>\n",
       "      <th>Preparation_Time_min</th>\n",
       "    </tr>\n",
       "  </thead>\n",
       "  <tbody>\n",
       "    <tr>\n",
       "      <th>925</th>\n",
       "      <td>2.67</td>\n",
       "      <td>Clear</td>\n",
       "      <td>Medium</td>\n",
       "      <td>Night</td>\n",
       "      <td>Car</td>\n",
       "      <td>17</td>\n",
       "    </tr>\n",
       "  </tbody>\n",
       "</table>\n",
       "</div>"
      ],
      "text/plain": [
       "     Distance_km Weather Traffic_Level Time_of_Day Vehicle_Type  \\\n",
       "925         2.67   Clear        Medium       Night          Car   \n",
       "\n",
       "     Preparation_Time_min  \n",
       "925                    17  "
      ]
     },
     "execution_count": 7,
     "metadata": {},
     "output_type": "execute_result"
    }
   ],
   "source": [
    "sample"
   ]
  },
  {
   "cell_type": "code",
   "execution_count": 18,
   "id": "de92e7c4-874e-4857-b6b5-672a6a3ba20a",
   "metadata": {},
   "outputs": [
    {
     "name": "stderr",
     "output_type": "stream",
     "text": [
      "C:\\Users\\ABHISHEK\\AppData\\Local\\Temp\\ipykernel_20556\\2868964659.py:2: SettingWithCopyWarning:\n",
      "\n",
      "\n",
      "A value is trying to be set on a copy of a slice from a DataFrame.\n",
      "Try using .loc[row_indexer,col_indexer] = value instead\n",
      "\n",
      "See the caveats in the documentation: https://pandas.pydata.org/pandas-docs/stable/user_guide/indexing.html#returning-a-view-versus-a-copy\n",
      "\n"
     ]
    },
    {
     "data": {
      "text/html": [
       "<div>\n",
       "<style scoped>\n",
       "    .dataframe tbody tr th:only-of-type {\n",
       "        vertical-align: middle;\n",
       "    }\n",
       "\n",
       "    .dataframe tbody tr th {\n",
       "        vertical-align: top;\n",
       "    }\n",
       "\n",
       "    .dataframe thead th {\n",
       "        text-align: right;\n",
       "    }\n",
       "</style>\n",
       "<table border=\"1\" class=\"dataframe\">\n",
       "  <thead>\n",
       "    <tr style=\"text-align: right;\">\n",
       "      <th></th>\n",
       "      <th>Distance_km</th>\n",
       "      <th>Weather</th>\n",
       "      <th>Traffic_Level</th>\n",
       "      <th>Time_of_Day</th>\n",
       "      <th>Vehicle_Type</th>\n",
       "      <th>Preparation_Time_min</th>\n",
       "      <th>Speed_[km/m]</th>\n",
       "    </tr>\n",
       "  </thead>\n",
       "  <tbody>\n",
       "    <tr>\n",
       "      <th>913</th>\n",
       "      <td>12.00</td>\n",
       "      <td>Clear</td>\n",
       "      <td>Low</td>\n",
       "      <td>Evening</td>\n",
       "      <td>Car</td>\n",
       "      <td>25</td>\n",
       "      <td>0.480000</td>\n",
       "    </tr>\n",
       "    <tr>\n",
       "      <th>930</th>\n",
       "      <td>7.34</td>\n",
       "      <td>Foggy</td>\n",
       "      <td>Medium</td>\n",
       "      <td>Afternoon</td>\n",
       "      <td>Bike</td>\n",
       "      <td>22</td>\n",
       "      <td>0.333636</td>\n",
       "    </tr>\n",
       "    <tr>\n",
       "      <th>664</th>\n",
       "      <td>3.64</td>\n",
       "      <td>Clear</td>\n",
       "      <td>Low</td>\n",
       "      <td>Morning</td>\n",
       "      <td>Scooter</td>\n",
       "      <td>16</td>\n",
       "      <td>0.227500</td>\n",
       "    </tr>\n",
       "    <tr>\n",
       "      <th>768</th>\n",
       "      <td>3.97</td>\n",
       "      <td>Clear</td>\n",
       "      <td>High</td>\n",
       "      <td>Afternoon</td>\n",
       "      <td>Bike</td>\n",
       "      <td>19</td>\n",
       "      <td>0.208947</td>\n",
       "    </tr>\n",
       "    <tr>\n",
       "      <th>915</th>\n",
       "      <td>19.04</td>\n",
       "      <td>Rainy</td>\n",
       "      <td>Low</td>\n",
       "      <td>Evening</td>\n",
       "      <td>Car</td>\n",
       "      <td>12</td>\n",
       "      <td>1.586667</td>\n",
       "    </tr>\n",
       "    <tr>\n",
       "      <th>...</th>\n",
       "      <td>...</td>\n",
       "      <td>...</td>\n",
       "      <td>...</td>\n",
       "      <td>...</td>\n",
       "      <td>...</td>\n",
       "      <td>...</td>\n",
       "      <td>...</td>\n",
       "    </tr>\n",
       "    <tr>\n",
       "      <th>107</th>\n",
       "      <td>14.89</td>\n",
       "      <td>Snowy</td>\n",
       "      <td>High</td>\n",
       "      <td>Morning</td>\n",
       "      <td>Scooter</td>\n",
       "      <td>17</td>\n",
       "      <td>0.875882</td>\n",
       "    </tr>\n",
       "    <tr>\n",
       "      <th>272</th>\n",
       "      <td>4.55</td>\n",
       "      <td>Rainy</td>\n",
       "      <td>Low</td>\n",
       "      <td>Afternoon</td>\n",
       "      <td>Bike</td>\n",
       "      <td>5</td>\n",
       "      <td>0.910000</td>\n",
       "    </tr>\n",
       "    <tr>\n",
       "      <th>865</th>\n",
       "      <td>4.05</td>\n",
       "      <td>Clear</td>\n",
       "      <td>Medium</td>\n",
       "      <td>Afternoon</td>\n",
       "      <td>Scooter</td>\n",
       "      <td>21</td>\n",
       "      <td>0.192857</td>\n",
       "    </tr>\n",
       "    <tr>\n",
       "      <th>438</th>\n",
       "      <td>13.60</td>\n",
       "      <td>Foggy</td>\n",
       "      <td>High</td>\n",
       "      <td>Evening</td>\n",
       "      <td>Bike</td>\n",
       "      <td>9</td>\n",
       "      <td>1.511111</td>\n",
       "    </tr>\n",
       "    <tr>\n",
       "      <th>103</th>\n",
       "      <td>18.76</td>\n",
       "      <td>Clear</td>\n",
       "      <td>Medium</td>\n",
       "      <td>Evening</td>\n",
       "      <td>Car</td>\n",
       "      <td>15</td>\n",
       "      <td>1.250667</td>\n",
       "    </tr>\n",
       "  </tbody>\n",
       "</table>\n",
       "<p>795 rows × 7 columns</p>\n",
       "</div>"
      ],
      "text/plain": [
       "     Distance_km Weather Traffic_Level Time_of_Day Vehicle_Type  \\\n",
       "913        12.00   Clear           Low     Evening          Car   \n",
       "930         7.34   Foggy        Medium   Afternoon         Bike   \n",
       "664         3.64   Clear           Low     Morning      Scooter   \n",
       "768         3.97   Clear          High   Afternoon         Bike   \n",
       "915        19.04   Rainy           Low     Evening          Car   \n",
       "..           ...     ...           ...         ...          ...   \n",
       "107        14.89   Snowy          High     Morning      Scooter   \n",
       "272         4.55   Rainy           Low   Afternoon         Bike   \n",
       "865         4.05   Clear        Medium   Afternoon      Scooter   \n",
       "438        13.60   Foggy          High     Evening         Bike   \n",
       "103        18.76   Clear        Medium     Evening          Car   \n",
       "\n",
       "     Preparation_Time_min  Speed_[km/m]  \n",
       "913                    25      0.480000  \n",
       "930                    22      0.333636  \n",
       "664                    16      0.227500  \n",
       "768                    19      0.208947  \n",
       "915                    12      1.586667  \n",
       "..                    ...           ...  \n",
       "107                    17      0.875882  \n",
       "272                     5      0.910000  \n",
       "865                    21      0.192857  \n",
       "438                     9      1.511111  \n",
       "103                    15      1.250667  \n",
       "\n",
       "[795 rows x 7 columns]"
      ]
     },
     "execution_count": 18,
     "metadata": {},
     "output_type": "execute_result"
    }
   ],
   "source": [
    "X_train\n",
    "sample_X_train = select_column(X_train) \n",
    "new_sample_X_train= create_speed(sample_X_train) \n",
    "new_sample_X_train"
   ]
  },
  {
   "cell_type": "code",
   "execution_count": null,
   "id": "58a2a42b-cb10-4f96-afd2-05774f451d4c",
   "metadata": {},
   "outputs": [],
   "source": []
  },
  {
   "cell_type": "code",
   "execution_count": 8,
   "id": "8534961f-e841-48ba-b2b5-53335f5f3314",
   "metadata": {},
   "outputs": [],
   "source": [
    "def create_speed(data):\n",
    "    data['Speed_[km/m]']=data['Distance_km']/data['Preparation_Time_min']\n",
    "    return data"
   ]
  },
  {
   "cell_type": "code",
   "execution_count": 12,
   "id": "75a3dde2-49b5-43ac-893a-236cc42a0749",
   "metadata": {},
   "outputs": [],
   "source": [
    "sample = create_speed(sample)"
   ]
  },
  {
   "cell_type": "code",
   "execution_count": 13,
   "id": "5522aedf-73f4-4d0d-9081-5fc147958f64",
   "metadata": {},
   "outputs": [
    {
     "data": {
      "text/html": [
       "<div>\n",
       "<style scoped>\n",
       "    .dataframe tbody tr th:only-of-type {\n",
       "        vertical-align: middle;\n",
       "    }\n",
       "\n",
       "    .dataframe tbody tr th {\n",
       "        vertical-align: top;\n",
       "    }\n",
       "\n",
       "    .dataframe thead th {\n",
       "        text-align: right;\n",
       "    }\n",
       "</style>\n",
       "<table border=\"1\" class=\"dataframe\">\n",
       "  <thead>\n",
       "    <tr style=\"text-align: right;\">\n",
       "      <th></th>\n",
       "      <th>Distance_km</th>\n",
       "      <th>Weather</th>\n",
       "      <th>Traffic_Level</th>\n",
       "      <th>Time_of_Day</th>\n",
       "      <th>Vehicle_Type</th>\n",
       "      <th>Preparation_Time_min</th>\n",
       "      <th>Speed_[km/m]</th>\n",
       "    </tr>\n",
       "  </thead>\n",
       "  <tbody>\n",
       "    <tr>\n",
       "      <th>925</th>\n",
       "      <td>2.67</td>\n",
       "      <td>Clear</td>\n",
       "      <td>Medium</td>\n",
       "      <td>Night</td>\n",
       "      <td>Car</td>\n",
       "      <td>17</td>\n",
       "      <td>0.157059</td>\n",
       "    </tr>\n",
       "  </tbody>\n",
       "</table>\n",
       "</div>"
      ],
      "text/plain": [
       "     Distance_km Weather Traffic_Level Time_of_Day Vehicle_Type  \\\n",
       "925         2.67   Clear        Medium       Night          Car   \n",
       "\n",
       "     Preparation_Time_min  Speed_[km/m]  \n",
       "925                    17      0.157059  "
      ]
     },
     "execution_count": 13,
     "metadata": {},
     "output_type": "execute_result"
    }
   ],
   "source": [
    "sample"
   ]
  },
  {
   "cell_type": "code",
   "execution_count": 10,
   "id": "37f20249-8106-4eb5-a9d7-99e18511c816",
   "metadata": {},
   "outputs": [],
   "source": [
    "from sklearn.compose import ColumnTransformer\n",
    "from sklearn.preprocessing import StandardScaler,OneHotEncoder"
   ]
  },
  {
   "cell_type": "code",
   "execution_count": 28,
   "id": "9db06d99-0156-4547-942d-d859cf43598c",
   "metadata": {},
   "outputs": [],
   "source": [
    "def drop_column(df):\n",
    "    columns = ['Weather_Windy', 'Traffic_Level_Medium','Time_of_Day_Night','Vehicle_Type_Scooter']\n",
    "    new_df = df.drop(columns,axis = 1)\n",
    "    return new_df\n",
    "def int_convertor(column,df ):\n",
    "    try :\n",
    "        df[column] = df[column].astype('int64')\n",
    "    except Exception as e :\n",
    "        print(e)"
   ]
  },
  {
   "cell_type": "code",
   "execution_count": 32,
   "id": "e74ff5fb-ce4c-45c5-99da-58099672e7c0",
   "metadata": {},
   "outputs": [],
   "source": [
    "def apply_transformer(sample): \n",
    "    transformer = ColumnTransformer(\n",
    "        transformers=[\n",
    "            ('numerical',StandardScaler(),['Distance_km','Preparation_Time_min',\n",
    "           'Speed_[km/m]']),\n",
    "            ('categorical',OneHotEncoder(),['Weather', 'Traffic_Level', 'Time_of_Day',\n",
    "           'Vehicle_Type'])\n",
    "                    ],\n",
    "        remainder='passthrough')\n",
    "    sample_X_train = select_column(X_train) \n",
    "    new_sample_X_train= create_speed(sample_X_train)\n",
    "    transformer.fit(new_sample_X_train)\n",
    "    new_sample=transformer.transform(sample)\n",
    "    new_sample_df=pd.DataFrame(new_sample,columns=['Distance_km','Preparation_Time_min','Speed_[km/m]','Weather_Clear', 'Weather_Foggy', 'Weather_Rainy', 'Weather_Snowy',\n",
    "           'Weather_Windy', 'Traffic_Level_High', 'Traffic_Level_Low',\n",
    "           'Traffic_Level_Medium', 'Time_of_Day_Afternoon',\n",
    "           'Time_of_Day_Evening', 'Time_of_Day_Morning', 'Time_of_Day_Night',\n",
    "           'Vehicle_Type_Bike', 'Vehicle_Type_Car', 'Vehicle_Type_Scooter'])\n",
    "    new_sample_df=drop_column(new_sample_df)\n",
    "    return new_sample_df"
   ]
  },
  {
   "cell_type": "code",
   "execution_count": 33,
   "id": "b3978843-f8d9-49b7-a731-851225b27bab",
   "metadata": {},
   "outputs": [
    {
     "data": {
      "text/html": [
       "<div>\n",
       "<style scoped>\n",
       "    .dataframe tbody tr th:only-of-type {\n",
       "        vertical-align: middle;\n",
       "    }\n",
       "\n",
       "    .dataframe tbody tr th {\n",
       "        vertical-align: top;\n",
       "    }\n",
       "\n",
       "    .dataframe thead th {\n",
       "        text-align: right;\n",
       "    }\n",
       "</style>\n",
       "<table border=\"1\" class=\"dataframe\">\n",
       "  <thead>\n",
       "    <tr style=\"text-align: right;\">\n",
       "      <th></th>\n",
       "      <th>Distance_km</th>\n",
       "      <th>Preparation_Time_min</th>\n",
       "      <th>Speed_[km/m]</th>\n",
       "      <th>Weather_Clear</th>\n",
       "      <th>Weather_Foggy</th>\n",
       "      <th>Weather_Rainy</th>\n",
       "      <th>Weather_Snowy</th>\n",
       "      <th>Traffic_Level_High</th>\n",
       "      <th>Traffic_Level_Low</th>\n",
       "      <th>Time_of_Day_Afternoon</th>\n",
       "      <th>Time_of_Day_Evening</th>\n",
       "      <th>Time_of_Day_Morning</th>\n",
       "      <th>Vehicle_Type_Bike</th>\n",
       "      <th>Vehicle_Type_Car</th>\n",
       "    </tr>\n",
       "  </thead>\n",
       "  <tbody>\n",
       "    <tr>\n",
       "      <th>0</th>\n",
       "      <td>-1.341724</td>\n",
       "      <td>-0.00243</td>\n",
       "      <td>-0.902557</td>\n",
       "      <td>1.0</td>\n",
       "      <td>0.0</td>\n",
       "      <td>0.0</td>\n",
       "      <td>0.0</td>\n",
       "      <td>0.0</td>\n",
       "      <td>0.0</td>\n",
       "      <td>0.0</td>\n",
       "      <td>0.0</td>\n",
       "      <td>0.0</td>\n",
       "      <td>0.0</td>\n",
       "      <td>1.0</td>\n",
       "    </tr>\n",
       "  </tbody>\n",
       "</table>\n",
       "</div>"
      ],
      "text/plain": [
       "   Distance_km  Preparation_Time_min  Speed_[km/m]  Weather_Clear  \\\n",
       "0    -1.341724              -0.00243     -0.902557            1.0   \n",
       "\n",
       "   Weather_Foggy  Weather_Rainy  Weather_Snowy  Traffic_Level_High  \\\n",
       "0            0.0            0.0            0.0                 0.0   \n",
       "\n",
       "   Traffic_Level_Low  Time_of_Day_Afternoon  Time_of_Day_Evening  \\\n",
       "0                0.0                    0.0                  0.0   \n",
       "\n",
       "   Time_of_Day_Morning  Vehicle_Type_Bike  Vehicle_Type_Car  \n",
       "0                  0.0                0.0               1.0  "
      ]
     },
     "execution_count": 33,
     "metadata": {},
     "output_type": "execute_result"
    }
   ],
   "source": [
    "apply_transformer(sample)"
   ]
  },
  {
   "cell_type": "code",
   "execution_count": 23,
   "id": "4d6c07aa-78d2-4df2-a16c-2415632ffa91",
   "metadata": {},
   "outputs": [],
   "source": [
    "categorical_column=transformer.named_transformers_['categorical'].get_feature_names_out()"
   ]
  },
  {
   "cell_type": "code",
   "execution_count": 24,
   "id": "6834f688-4b02-4765-af5b-e05c59faab08",
   "metadata": {},
   "outputs": [],
   "source": [
    "numerical_columns=['Distance_km','Preparation_Time_min','Speed_[km/m]']"
   ]
  },
  {
   "cell_type": "code",
   "execution_count": 25,
   "id": "1dd344a4-8bfb-4735-9c4b-1de0d1176319",
   "metadata": {},
   "outputs": [
    {
     "data": {
      "text/plain": [
       "array(['Weather_Clear', 'Weather_Foggy', 'Weather_Rainy', 'Weather_Snowy',\n",
       "       'Weather_Windy', 'Traffic_Level_High', 'Traffic_Level_Low',\n",
       "       'Traffic_Level_Medium', 'Time_of_Day_Afternoon',\n",
       "       'Time_of_Day_Evening', 'Time_of_Day_Morning', 'Time_of_Day_Night',\n",
       "       'Vehicle_Type_Bike', 'Vehicle_Type_Car', 'Vehicle_Type_Scooter'],\n",
       "      dtype=object)"
      ]
     },
     "execution_count": 25,
     "metadata": {},
     "output_type": "execute_result"
    }
   ],
   "source": [
    "categorical_column"
   ]
  },
  {
   "cell_type": "code",
   "execution_count": 34,
   "id": "f26defae-b34f-4439-bb31-e040a0c3ae21",
   "metadata": {},
   "outputs": [],
   "source": [
    "import joblib\n",
    "M = joblib.load('regression__model.joblib')"
   ]
  },
  {
   "cell_type": "code",
   "execution_count": 35,
   "id": "51b4c1f9-cfcb-47fe-8d40-61e33f8ed750",
   "metadata": {},
   "outputs": [
    {
     "data": {
      "text/plain": [
       "array([[33.34566297]])"
      ]
     },
     "execution_count": 35,
     "metadata": {},
     "output_type": "execute_result"
    }
   ],
   "source": [
    "M.predict(new_sample_df)"
   ]
  },
  {
   "cell_type": "code",
   "execution_count": null,
   "id": "8cdede9e-521a-447f-8959-a4a3df438102",
   "metadata": {},
   "outputs": [],
   "source": []
  }
 ],
 "metadata": {
  "kernelspec": {
   "display_name": "Python 3 (ipykernel)",
   "language": "python",
   "name": "python3"
  },
  "language_info": {
   "codemirror_mode": {
    "name": "ipython",
    "version": 3
   },
   "file_extension": ".py",
   "mimetype": "text/x-python",
   "name": "python",
   "nbconvert_exporter": "python",
   "pygments_lexer": "ipython3",
   "version": "3.12.4"
  }
 },
 "nbformat": 4,
 "nbformat_minor": 5
}
